{
 "cells": [
  {
   "cell_type": "code",
   "execution_count": null,
   "id": "6b5dcc28",
   "metadata": {},
   "outputs": [],
   "source": [
    "import plotly.express as px\n",
    "import pandas as pd\n",
    "import numpy as np\n",
    "import torch\n",
    "import seaborn as sns\n",
    "from rindti.losses import GeneralisedLiftedStructureLoss, SoftNearestNeighborLoss\n",
    "from sklearn.manifold import TSNE\n",
    "\n",
    "import plotly.graph_objs as go\n",
    "\n",
    "import numpy as np\n",
    "from ipywidgets import interact\n",
    "from sklearn.decomposition import PCA\n",
    "from umap import UMAP\n"
   ]
  },
  {
   "cell_type": "code",
   "execution_count": null,
   "id": "d5492b47",
   "metadata": {},
   "outputs": [],
   "source": [
    "def compress(dist, scale):\n",
    "    centre = dist.mean(dim=0)\n",
    "    displacement = (centre - dist).norm(dim=1, keepdim=True)\n",
    "    return dist / (1 + displacement * scale)\n",
    "\n",
    "class Plotter:\n",
    "    def __init__(self, num=100, dims=2, loss=GeneralisedLiftedStructureLoss):\n",
    "        self.num = num\n",
    "        self.dims = dims\n",
    "        self.loss = loss\n",
    "        self.dist = torch.normal(0,1,size=(num, dims))\n",
    "\n",
    "    def get_data(self, distance, scale, *args, **kwargs):\n",
    "        a = compress(self.dist, scale) + torch.ones(self.dims) * distance\n",
    "        b = compress(self.dist, scale) - torch.ones(self.dims) * distance\n",
    "        data = torch.cat((a, b))\n",
    "        fam_idx = torch.tensor([0] * self.num + [3] * self.num).view(-1, 1)\n",
    "        loss = self.loss(*args, **kwargs)\n",
    "        losses = loss.forward(data, fam_idx).tolist()\n",
    "        if data.shape[1] > 2:\n",
    "            data = PCA(n_components=2).fit_transform(data)\n",
    "        else:\n",
    "            data = data.numpy()\n",
    "        data = pd.DataFrame(data, columns=[\"x\", \"y\"])\n",
    "        data[\"distance\"] = distance\n",
    "        data[\"scale\"] = scale\n",
    "        data['loss'] = losses\n",
    "        data['symbol'] = fam_idx.view(-1).tolist()\n",
    "        return data\n",
    "    \n",
    "    def get_loss(self, *args, **kwargs):\n",
    "        data = self.get_data(*args, **kwargs)\n",
    "        return data['loss'].mean()"
   ]
  },
  {
   "cell_type": "code",
   "execution_count": null,
   "id": "9c5d773f",
   "metadata": {},
   "outputs": [],
   "source": [
    "fig = go.FigureWidget()\n",
    "scatt = fig.add_trace(go.Scatter())\n",
    "fig.update_layout(\n",
    "                  width=1000,\n",
    "                  height=600,\n",
    "                 )\n",
    "fig.update_traces(marker=dict(size=12), mode=\"markers\")\n",
    "p = Plotter(num=100, dims=2, loss=SoftNearestNeighborLoss)\n",
    "@interact(distance=(0, 1, 0.1), scale=(0, 1.0, 0.1), temperature=(-3, 3, 1))\n",
    "def update(distance=0, scale=0, temperature=0):\n",
    "    with fig.batch_update():\n",
    "        data = p.get_data(distance, scale, 10**temperature)\n",
    "        scatt[\"data\"][0].x= data['x']\n",
    "        scatt[\"data\"][0].y= data['y']\n",
    "        scatt[\"data\"][0].marker.color = data['loss'] + 1\n",
    "        scatt[\"data\"][0].marker.symbol = data['symbol']\n",
    "        scatt[\"data\"][0].hovertext = data['loss']\n",
    "        fig['layout'].title = \"Loss = {}\".format(data['loss'].mean())\n",
    "fig"
   ]
  },
  {
   "cell_type": "code",
   "execution_count": null,
   "id": "76ea9901",
   "metadata": {},
   "outputs": [],
   "source": [
    "p = Plotter(dims=2, num=25, loss=SoftNearestNeighborLoss)\n",
    "t = []\n",
    "for distance in np.linspace(0,1,25):\n",
    "    for scale in np.linspace(0,1,25):\n",
    "        t.append((distance, scale, p.get_loss(distance, scale)))\n",
    "t = pd.DataFrame(t, columns=['distance', \"scale\", \"loss\"])\n",
    "\n",
    "fig = px.scatter_3d(data_frame=t, x=\"distance\", y=\"scale\", z=\"loss\", color=\"loss\", width=1700, height=1000)\n",
    "fig.update_coloraxes(showscale=False)\n",
    "fig.update_layout(title=\"How distance between 2 clusters and their std affect SNN Loss\")\n",
    "fig.write_html(\"scale_dist_loss_2d.html\")\n",
    "fig.show()"
   ]
  },
  {
   "cell_type": "code",
   "execution_count": null,
   "id": "8b27ec47",
   "metadata": {},
   "outputs": [],
   "source": []
  }
 ],
 "metadata": {
  "kernelspec": {
   "display_name": "",
   "language": "python",
   "name": ""
  },
  "language_info": {
   "codemirror_mode": {
    "name": "ipython",
    "version": 3
   },
   "file_extension": ".py",
   "mimetype": "text/x-python",
   "name": "python",
   "nbconvert_exporter": "python",
   "pygments_lexer": "ipython3",
   "version": "3.8.10"
  }
 },
 "nbformat": 4,
 "nbformat_minor": 5
}
