{
 "cells": [
  {
   "cell_type": "code",
   "execution_count": null,
   "id": "9cd328e4",
   "metadata": {
    "ExecuteTime": {
     "end_time": "2021-09-02T16:16:13.113030Z",
     "start_time": "2021-09-02T16:16:12.596270Z"
    }
   },
   "outputs": [],
   "source": [
    "import torch\n",
    "import pandas as pd\n",
    "import numpy as np\n",
    "import requests\n",
    "import os"
   ]
  },
  {
   "cell_type": "code",
   "execution_count": null,
   "id": "1dd75084",
   "metadata": {
    "ExecuteTime": {
     "end_time": "2021-09-02T16:16:16.463705Z",
     "start_time": "2021-09-02T16:16:14.044402Z"
    }
   },
   "outputs": [],
   "source": [
    "inter = pd.read_csv('../glass/interactions_total.tsv', sep='\\t')\n",
    "lig = pd.read_csv('../glass/ligands.tsv', sep='\\t')\n",
    "print(inter.shape, lig.shape)\n",
    "inter = inter[inter['Parameter'].isin(['Ki', 'IC50', 'EC50'])]\n",
    "print(inter.shape, lig.shape)"
   ]
  },
  {
   "cell_type": "code",
   "execution_count": null,
   "id": "aab89eb4",
   "metadata": {
    "ExecuteTime": {
     "end_time": "2021-09-02T16:16:17.102130Z",
     "start_time": "2021-09-02T16:16:17.100390Z"
    }
   },
   "outputs": [],
   "source": [
    "def get_float(entry:str):\n",
    "    try:\n",
    "        return float(entry)\n",
    "    except Exception as e:\n",
    "        return np.nan"
   ]
  },
  {
   "cell_type": "code",
   "execution_count": null,
   "id": "56c99684",
   "metadata": {
    "ExecuteTime": {
     "end_time": "2021-09-02T16:16:18.602721Z",
     "start_time": "2021-09-02T16:16:18.436543Z"
    }
   },
   "outputs": [],
   "source": [
    "inter = inter.rename({'UniProt ID' : 'Target_ID', 'InChI Key': 'Drug_ID', 'Value' : 'Y'}, axis=1)[['Drug_ID','Target_ID', \"Y\"]]\n",
    "lig = lig.rename({'UniProt ID' : 'Target_ID', 'InChI Key': 'Drug_ID', 'Value' : 'Y', 'Canonical SMILES' : 'Drug'}, axis=1)[['Drug_ID', 'Drug']]"
   ]
  },
  {
   "cell_type": "code",
   "execution_count": null,
   "id": "9ade5d1d",
   "metadata": {
    "ExecuteTime": {
     "end_time": "2021-09-02T16:16:19.463339Z",
     "start_time": "2021-09-02T16:16:19.276363Z"
    }
   },
   "outputs": [],
   "source": [
    "inter['Y'] = inter['Y'].apply(get_float)"
   ]
  },
  {
   "cell_type": "code",
   "execution_count": null,
   "id": "b04fa15f",
   "metadata": {
    "ExecuteTime": {
     "end_time": "2021-09-02T16:16:20.037327Z",
     "start_time": "2021-09-02T16:16:20.012373Z"
    }
   },
   "outputs": [],
   "source": [
    "inter = inter[inter['Y'].notna()]\n",
    "print(inter.shape, lig.shape)"
   ]
  },
  {
   "cell_type": "code",
   "execution_count": null,
   "id": "d43dc134",
   "metadata": {
    "ExecuteTime": {
     "end_time": "2021-09-02T16:16:22.818028Z",
     "start_time": "2021-09-02T16:16:22.540386Z"
    }
   },
   "outputs": [],
   "source": [
    "inter = inter.groupby(['Drug_ID', 'Target_ID']).agg('median').reset_index()\n",
    "print(inter.shape, lig.shape)"
   ]
  },
  {
   "cell_type": "code",
   "execution_count": null,
   "id": "73e3d599",
   "metadata": {
    "ExecuteTime": {
     "end_time": "2021-09-02T15:20:33.219078Z",
     "start_time": "2021-09-02T15:18:49.981029Z"
    }
   },
   "outputs": [],
   "source": [
    "for i in inter['Target_ID'].unique():\n",
    "    response = requests.get('https://alphafold.ebi.ac.uk/files/AF-{i}-F1-model_v1.pdb'.format(i=i))\n",
    "    if response:\n",
    "        with open('resources/structures/{i}.pdb'.format(i=i), 'w') as file:\n",
    "            file.write(response.text)"
   ]
  },
  {
   "cell_type": "code",
   "execution_count": null,
   "id": "603ddd86",
   "metadata": {
    "ExecuteTime": {
     "end_time": "2021-09-02T16:16:27.369700Z",
     "start_time": "2021-09-02T16:16:27.340432Z"
    }
   },
   "outputs": [],
   "source": [
    "available_structures = [x.split('.')[0] for x in os.listdir('resources/structures')]\n",
    "inter = inter[inter['Target_ID'].isin(available_structures)]\n",
    "print(inter.shape, lig.shape)"
   ]
  },
  {
   "cell_type": "code",
   "execution_count": null,
   "id": "b204eb6d",
   "metadata": {
    "ExecuteTime": {
     "end_time": "2021-09-02T16:16:29.576728Z",
     "start_time": "2021-09-02T16:16:29.452375Z"
    }
   },
   "outputs": [],
   "source": [
    "lig = lig[lig['Drug_ID'].isin(inter['Drug_ID'].unique())]\n",
    "print(lig.shape)"
   ]
  },
  {
   "cell_type": "code",
   "execution_count": null,
   "id": "61abba22",
   "metadata": {
    "ExecuteTime": {
     "end_time": "2021-09-02T16:16:35.782829Z",
     "start_time": "2021-09-02T16:16:35.196446Z"
    }
   },
   "outputs": [],
   "source": [
    "inter.to_csv('resources/drugs/inter.tsv', sep='\\t', index=False)\n",
    "lig.to_csv('resources/drugs/lig.tsv', sep='\\t', index=False)"
   ]
  },
  {
   "cell_type": "code",
   "execution_count": null,
   "id": "fcb4378b",
   "metadata": {},
   "outputs": [],
   "source": []
  }
 ],
 "metadata": {
  "kernelspec": {
   "display_name": "",
   "language": "python",
   "name": ""
  },
  "language_info": {
   "codemirror_mode": {
    "name": "ipython",
    "version": 3
   },
   "file_extension": ".py",
   "mimetype": "text/x-python",
   "name": "python",
   "nbconvert_exporter": "python",
   "pygments_lexer": "ipython3",
   "version": "3.8.10"
  }
 },
 "nbformat": 4,
 "nbformat_minor": 5
}
