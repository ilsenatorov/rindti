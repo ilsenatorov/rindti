{
 "cells": [
  {
   "cell_type": "code",
   "execution_count": null,
   "id": "75b11891",
   "metadata": {},
   "outputs": [],
   "source": [
    "import plotly.express as px\n",
    "import pandas as pd\n",
    "import numpy as np\n",
    "import torch\n",
    "import seaborn as sns\n",
    "from rindti.losses import SoftNearestNeighborLoss"
   ]
  },
  {
   "cell_type": "code",
   "execution_count": null,
   "id": "539ceb3c",
   "metadata": {},
   "outputs": [],
   "source": [
    "class Plotter:\n",
    "    def __init__(self, num=100):\n",
    "        self.num = num\n",
    "        self.a = torch.randn((num, 2))\n",
    "        self.b = torch.randn((num, 2))\n",
    "        self.c = torch.randn((num, 2))\n",
    "        self.d = torch.randn((num, 2))\n",
    "\n",
    "    def get_data(self, mult, temp, comp=1):\n",
    "        a = self.a * comp + torch.tensor([1, 1]) * mult\n",
    "        b = self.b * comp + torch.tensor([-1, -1]) * mult\n",
    "        c = self.c * comp + torch.tensor([1, -1]) * mult\n",
    "        d = self.d * comp + torch.tensor([-1, 1]) * mult\n",
    "\n",
    "        data = torch.cat((a, b, c, d))\n",
    "        fam_idx = torch.tensor([0] * self.num + [1] * self.num + [2] * self.num + [3] * self.num).view(-1, 1)\n",
    "        loss = SoftNearestNeighborLoss(temp)\n",
    "        losses = loss.forward(data, fam_idx).tolist()\n",
    "        data = pd.DataFrame(data.numpy(), columns=[\"x\", \"y\"])\n",
    "        data[\"mult\"] = mult\n",
    "        data[\"temp\"] = temp\n",
    "        data['loss'] = losses\n",
    "        data['symbol'] = fam_idx.view(-1).tolist()\n",
    "        return data\n",
    "    \n",
    "    def get_loss(self, *args, **kwargs):\n",
    "        data = self.get_data(*args, **kwargs)\n",
    "        return data['loss'].mean()"
   ]
  },
  {
   "cell_type": "code",
   "execution_count": null,
   "id": "f9f45c28",
   "metadata": {},
   "outputs": [],
   "source": [
    "p = Plotter()\n",
    "t = []\n",
    "for mult in np.linspace(0,3,25):\n",
    "    for temp in np.power(10, np.linspace(-2, 2, 25)):\n",
    "        t.append((mult, temp, p.get_loss(mult, temp)))\n",
    "t = pd.DataFrame(t, columns=['mult', \"temp\", \"loss\"])"
   ]
  },
  {
   "cell_type": "code",
   "execution_count": null,
   "id": "29c4f213",
   "metadata": {},
   "outputs": [],
   "source": [
    "fig = px.scatter_3d(data_frame=t, x=\"mult\", y=\"temp\", z=\"loss\", log_y=True, color=\"loss\", width=1000, height=800)\n",
    "fig.show()"
   ]
  },
  {
   "cell_type": "code",
   "execution_count": null,
   "id": "8235fd28",
   "metadata": {},
   "outputs": [],
   "source": [
    "p = Plotter()\n",
    "datas = []\n",
    "t = np.linspace(0.5,4,100)\n",
    "for mult in t:\n",
    "    datas.append(p.get_data(mult, .1, 3/mult))\n",
    "data = pd.concat(datas)\n",
    "fig = px.scatter(\n",
    "    data,\n",
    "    x=\"x\",\n",
    "    y=\"y\",\n",
    "    symbol=\"symbol\",\n",
    "    animation_frame=\"mult\",\n",
    "    height=800,\n",
    "    width=1000,\n",
    "    color=\"loss\",\n",
    "    opacity=0.5,\n",
    "    range_x = [-10,10],\n",
    "    range_y=[-10, 10]\n",
    ")\n",
    "for button in fig.layout.updatemenus[0].buttons:\n",
    "    button['args'][1]['frame']['redraw'] = True\n",
    "\n",
    "for step in fig.layout.sliders[0].steps:\n",
    "    step[\"args\"][1][\"frame\"][\"redraw\"] = True\n",
    "\n",
    "for k in range(len(fig.frames)):\n",
    "    fig.frames[k]['layout'].update(title_text='Loss = {}'.format(data[data['mult'] == t[k]]['loss'].mean()))\n",
    "fig.update_traces(marker=dict(size=10, line=dict(width=0.5, color=\"black\")))\n",
    "fig.update_coloraxes(showscale=False)\n",
    "fig.show()"
   ]
  },
  {
   "cell_type": "code",
   "execution_count": null,
   "id": "b28ae3a5",
   "metadata": {},
   "outputs": [],
   "source": []
  }
 ],
 "metadata": {
  "interpreter": {
   "hash": "8554e6baa45d4b3a991bdbf71b6842196bf0b8dbdf8bae8ed3061280d3da638f"
  },
  "kernelspec": {
   "display_name": "",
   "language": "python",
   "name": ""
  },
  "language_info": {
   "codemirror_mode": {
    "name": "ipython",
    "version": 3
   },
   "file_extension": ".py",
   "mimetype": "text/x-python",
   "name": "python",
   "nbconvert_exporter": "python",
   "pygments_lexer": "ipython3",
   "version": "3.8.10"
  }
 },
 "nbformat": 4,
 "nbformat_minor": 5
}
