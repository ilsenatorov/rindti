{
 "cells": [
  {
   "cell_type": "code",
   "execution_count": null,
   "id": "f1703d33",
   "metadata": {},
   "outputs": [],
   "source": [
    "import plotly.express as px\n",
    "from rindti.models import NoisyNodesClassModel, ClassificationModel\n",
    "from rindti.utils.data import Dataset\n",
    "import pickle\n",
    "import pandas as pd\n",
    "import seaborn as sns"
   ]
  },
  {
   "cell_type": "code",
   "execution_count": null,
   "id": "2341ab7c",
   "metadata": {},
   "outputs": [],
   "source": [
    "with open('results/prepare_all/random_all_under_classification_template_label_none.pkl', 'rb') as file:\n",
    "    data = pickle.load(file)"
   ]
  },
  {
   "cell_type": "code",
   "execution_count": null,
   "id": "a1b1c1c5",
   "metadata": {},
   "outputs": [],
   "source": [
    "print(\"kek\")"
   ]
  },
  {
   "cell_type": "code",
   "execution_count": null,
   "id": "8b79f4cc",
   "metadata": {},
   "outputs": [],
   "source": [
    "class TestModel(ClassificationModel):\n",
    "    def embed_prot(self, x, edge_index, **kwargs):\n",
    "        x = self.prot_feat_embed(x)\n",
    "        x = self.prot_node_embed(x, edge_index)\n",
    "        return self.prot_pool(x, edge_index, batch=None).detach().numpy().reshape(-1)\n",
    "    \n",
    "    def embed_drug(self, x, edge_index, **kwargs):\n",
    "        x = self.drug_feat_embed(x)\n",
    "        x = self.drug_node_embed(x, edge_index)\n",
    "        return self.drug_pool(x, edge_index, batch=None).detach().numpy().reshape(-1)"
   ]
  },
  {
   "cell_type": "code",
   "execution_count": null,
   "id": "615f9215",
   "metadata": {},
   "outputs": [],
   "source": [
    "!ls tb_logs/classification\\:random_posneg_under_classification_template_label_none/version_0/checkpoints"
   ]
  },
  {
   "cell_type": "code",
   "execution_count": null,
   "id": "081362d5",
   "metadata": {},
   "outputs": [],
   "source": [
    "model = TestModel.load_from_checkpoint('tb_logs/classification:random_posneg_under_classification_template_label_none/version_0/checkpoints/epoch=70-step=5537.ckpt')"
   ]
  },
  {
   "cell_type": "code",
   "execution_count": null,
   "id": "220e1289",
   "metadata": {},
   "outputs": [],
   "source": [
    "embeds = {}\n",
    "for id, prot in data['prots']['data'].to_dict().items():\n",
    "    emb = model.embed_prot(**prot)\n",
    "    embeds[id] = emb\n",
    "prot_embeds = pd.DataFrame(embeds).T"
   ]
  },
  {
   "cell_type": "code",
   "execution_count": null,
   "id": "d6dfac3f",
   "metadata": {},
   "outputs": [],
   "source": [
    "embeds = {}\n",
    "for id, drug in data['drugs']['data'].to_dict().items():\n",
    "    emb = model.embed_drug(**drug)\n",
    "    embeds[id] = emb\n",
    "drug_embeds = pd.DataFrame(embeds).T"
   ]
  },
  {
   "cell_type": "code",
   "execution_count": null,
   "id": "a0065909",
   "metadata": {},
   "outputs": [],
   "source": []
  }
 ],
 "metadata": {
  "kernelspec": {
   "display_name": "",
   "language": "python",
   "name": ""
  },
  "language_info": {
   "codemirror_mode": {
    "name": "ipython",
    "version": 3
   },
   "file_extension": ".py",
   "mimetype": "text/x-python",
   "name": "python",
   "nbconvert_exporter": "python",
   "pygments_lexer": "ipython3",
   "version": "3.8.10"
  }
 },
 "nbformat": 4,
 "nbformat_minor": 5
}
