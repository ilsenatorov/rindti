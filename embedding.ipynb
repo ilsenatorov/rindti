{
 "cells": [
  {
   "cell_type": "code",
   "execution_count": null,
   "id": "f1703d33",
   "metadata": {},
   "outputs": [],
   "source": [
    "import plotly.express as px\n",
    "from rindti.models import NoisyNodesClassModel, ClassificationModel, InfoGraphModel, GraphLogModel, PfamModel, BGRLModel\n",
    "from rindti.models.bgrl import Encoder\n",
    "from rindti.utils.data import Dataset\n",
    "import pickle\n",
    "import pandas as pd\n",
    "import seaborn as sns\n",
    "from sklearn.manifold import TSNE"
   ]
  },
  {
   "cell_type": "code",
   "execution_count": null,
   "id": "2341ab7c",
   "metadata": {},
   "outputs": [],
   "source": [
    "with open('results/prepare_all/random_posneg_under_classification_template_label_none.pkl', 'rb') as file:\n",
    "    data = pickle.load(file)"
   ]
  },
  {
   "cell_type": "code",
   "execution_count": null,
   "id": "ba0ead43",
   "metadata": {},
   "outputs": [],
   "source": [
    "prots = pd.read_pickle(\"/scratch/SCRATCH_NVME/ilya/pretrain_data/merged_500.pkl\")"
   ]
  },
  {
   "cell_type": "code",
   "execution_count": null,
   "id": "6cb80e62",
   "metadata": {},
   "outputs": [],
   "source": [
    "vc = prots['fam'].value_counts()\n",
    "prots_sub = prots[prots['fam'].isin(vc.head(10).index)]"
   ]
  },
  {
   "cell_type": "code",
   "execution_count": null,
   "id": "9b5da3da",
   "metadata": {},
   "outputs": [],
   "source": [
    "prots_sub"
   ]
  },
  {
   "cell_type": "code",
   "execution_count": null,
   "id": "8b79f4cc",
   "metadata": {},
   "outputs": [],
   "source": [
    "class TestModel(ClassificationModel):\n",
    "    def embed_prot(self, x, edge_index, **kwargs):\n",
    "        x = self.prot_feat_embed(x)\n",
    "        x = self.prot_node_embed(x, edge_index)\n",
    "        return self.prot_pool(x, edge_index, batch=None).detach().numpy().reshape(-1)\n",
    "    \n",
    "    def embed_drug(self, x, edge_index, **kwargs):\n",
    "        x = self.drug_feat_embed(x)\n",
    "        x = self.drug_node_embed(x, edge_index)\n",
    "        return self.drug_pool(x, edge_index, batch=None).detach().numpy().reshape(-1)"
   ]
  },
  {
   "cell_type": "code",
   "execution_count": null,
   "id": "9fdb15e6",
   "metadata": {},
   "outputs": [],
   "source": [
    "def embed_prot(encoder, x, edge_index, **kwargs):\n",
    "    embed, _ = encoder(x, edge_index, batch=None)\n",
    "    return embed.detach().numpy().reshape(-1)"
   ]
  },
  {
   "cell_type": "code",
   "execution_count": null,
   "id": "081362d5",
   "metadata": {},
   "outputs": [],
   "source": [
    "\n",
    "model = BGRLModel.load_from_checkpoint('tb_logs/bgrl/version_3/checkpoints/epoch=210-step=67097.ckpt')\n",
    "model.eval()\n",
    "encoder = model.student_encoder"
   ]
  },
  {
   "cell_type": "code",
   "execution_count": null,
   "id": "570430cd",
   "metadata": {},
   "outputs": [],
   "source": [
    "embeds = {}\n",
    "prots = data['prots']\n",
    "for id, prot in prots_sub['data'].to_dict().items():\n",
    "    emb = embed_prot(encoder, **prot)\n",
    "    embeds[id] = emb\n",
    "prot_embeds = pd.DataFrame(embeds).T"
   ]
  },
  {
   "cell_type": "code",
   "execution_count": null,
   "id": "220e1289",
   "metadata": {},
   "outputs": [],
   "source": [
    "tsne = TSNE()\n",
    "x = tsne.fit_transform(prot_embeds)\n"
   ]
  },
  {
   "cell_type": "code",
   "execution_count": null,
   "id": "d2e898bc",
   "metadata": {},
   "outputs": [],
   "source": [
    "x = pd.DataFrame(index=prots_sub.index, data=x).join(prots_sub)"
   ]
  },
  {
   "cell_type": "code",
   "execution_count": null,
   "id": "aa0b808b",
   "metadata": {},
   "outputs": [],
   "source": [
    "px.scatter(x, 0, 1, hover_name=x.index, hover_data=['fam'], color='fam')"
   ]
  },
  {
   "cell_type": "code",
   "execution_count": null,
   "id": "8256fdaa",
   "metadata": {},
   "outputs": [],
   "source": [
    "sns.clustermap(prot_embeds)"
   ]
  },
  {
   "cell_type": "code",
   "execution_count": null,
   "id": "a0065909",
   "metadata": {},
   "outputs": [],
   "source": [
    "help(sns.clustermap)"
   ]
  },
  {
   "cell_type": "code",
   "execution_count": null,
   "id": "09e2627f",
   "metadata": {},
   "outputs": [],
   "source": []
  }
 ],
 "metadata": {
  "kernelspec": {
   "display_name": "",
   "language": "python",
   "name": ""
  },
  "language_info": {
   "codemirror_mode": {
    "name": "ipython",
    "version": 3
   },
   "file_extension": ".py",
   "mimetype": "text/x-python",
   "name": "python",
   "nbconvert_exporter": "python",
   "pygments_lexer": "ipython3",
   "version": "3.8.10"
  }
 },
 "nbformat": 4,
 "nbformat_minor": 5
}
