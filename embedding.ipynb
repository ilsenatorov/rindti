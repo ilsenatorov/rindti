{
 "cells": [
  {
   "cell_type": "code",
   "execution_count": null,
   "id": "a32b6fea",
   "metadata": {},
   "outputs": [],
   "source": [
    "from collections import defaultdict\n",
    "\n",
    "import pandas as pd\n",
    "import plotly.express as px\n",
    "import torch\n",
    "from pytorch_lightning import Trainer, seed_everything\n",
    "from sklearn.cluster import KMeans\n",
    "from sklearn.manifold import TSNE\n",
    "from torch_geometric.loader import DataLoader\n",
    "from torchmetrics.functional import accuracy\n",
    "\n",
    "from rindti.data import PreTrainDataset\n",
    "from rindti.models import ProtClassModel"
   ]
  },
  {
   "cell_type": "code",
   "execution_count": null,
   "id": "4ce03e4f",
   "metadata": {},
   "outputs": [],
   "source": [
    "seed_everything(42)"
   ]
  },
  {
   "cell_type": "code",
   "execution_count": null,
   "id": "20d40f56",
   "metadata": {},
   "outputs": [],
   "source": [
    "ds = PreTrainDataset(\n",
    "    \"/scratch/SCRATCH_NVME/ilya/pretrain_data/pfam_fragments_distance_label_none.pkl\"\n",
    ")"
   ]
  },
  {
   "cell_type": "code",
   "execution_count": null,
   "id": "68245b62",
   "metadata": {},
   "outputs": [],
   "source": [
    "fams = defaultdict(list)\n",
    "for ind, val in enumerate(ds):\n",
    "    fams[val.y].append(ind)"
   ]
  },
  {
   "cell_type": "code",
   "execution_count": null,
   "id": "34c415e8",
   "metadata": {},
   "outputs": [],
   "source": [
    "fams_vc = pd.Series({k: len(v) for k, v in fams.items()})"
   ]
  },
  {
   "cell_type": "code",
   "execution_count": null,
   "id": "e950bb3b",
   "metadata": {},
   "outputs": [],
   "source": [
    "subset_index = []\n",
    "for fam in fams_vc.sort_values().tail(10).index:\n",
    "    print(fam)\n",
    "    subset_index += fams[fam]"
   ]
  },
  {
   "cell_type": "code",
   "execution_count": null,
   "id": "0c460a50",
   "metadata": {},
   "outputs": [],
   "source": [
    "subset = ds[subset_index]\n",
    "# subset = subset[torch.randperm(len(subset))][:1000]"
   ]
  },
  {
   "cell_type": "code",
   "execution_count": null,
   "id": "8bd31539",
   "metadata": {},
   "outputs": [],
   "source": [
    "dl = DataLoader(subset, batch_size=128, num_workers=16)"
   ]
  },
  {
   "cell_type": "code",
   "execution_count": null,
   "id": "040a94f1",
   "metadata": {},
   "outputs": [],
   "source": [
    "class TestModel(ProtClassModel):\n",
    "    def acc(self, embed, data_y):\n",
    "        pred = self.loss.mlp(embed)\n",
    "        labels = torch.tensor(self.loss.label_encoder.transform(data_y))\n",
    "        return accuracy(pred.cpu(), labels)"
   ]
  },
  {
   "cell_type": "code",
   "execution_count": null,
   "id": "df216523",
   "metadata": {},
   "outputs": [],
   "source": [
    "class NormalModel(ProtClassModel):\n",
    "    def predict_step(self, data, *args):\n",
    "        embed = self.encoder(data)\n",
    "        pred = self.loss.mlp(embed)\n",
    "        labels = torch.tensor(self.loss.label_encoder.transform(data.y))\n",
    "        return dict(\n",
    "            embeds=embed.detach().cpu(),\n",
    "            fam=data.y,\n",
    "            id=data.id,\n",
    "            acc=accuracy(pred.cpu(), labels),\n",
    "        )\n",
    "\n",
    "\n",
    "class MaskedModel(ProtClassModel):\n",
    "    def predict_step(self, data, *args):\n",
    "        data.x = torch.ones_like(data.x)\n",
    "        embed = self.encoder(data)\n",
    "        pred = self.loss.mlp(embed)\n",
    "        labels = torch.tensor(self.loss.label_encoder.transform(data.y))\n",
    "        return dict(\n",
    "            embeds=embed.detach().cpu(),\n",
    "            fam=data.y,\n",
    "            id=data.id,\n",
    "            acc=accuracy(pred.cpu(), labels),\n",
    "        )\n",
    "\n",
    "\n",
    "class ShuffledModel(ProtClassModel):\n",
    "    def predict_step(self, data, *args):\n",
    "        data.x = data.x[torch.randperm(data.x.size(0))]\n",
    "        embed = self.encoder(data)\n",
    "        pred = self.loss.mlp(embed)\n",
    "        labels = torch.tensor(self.loss.label_encoder.transform(data.y))\n",
    "        return dict(\n",
    "            embeds=embed.detach().cpu(),\n",
    "            fam=data.y,\n",
    "            id=data.id,\n",
    "            acc=accuracy(pred.cpu(), labels),\n",
    "        )\n",
    "\n",
    "\n",
    "class SequenceModel(ProtClassModel):\n",
    "    def predict_step(self, data, *args):\n",
    "        ei = data.edge_index\n",
    "        data.edge_index = ei[:, (ei[0] - ei[1]).abs() <= 1]\n",
    "        embed = self.encoder(data)\n",
    "        pred = self.loss.mlp(embed)\n",
    "        labels = torch.tensor(self.loss.label_encoder.transform(data.y))\n",
    "        return dict(\n",
    "            embeds=embed.detach().cpu(),\n",
    "            fam=data.y,\n",
    "            id=data.id,\n",
    "            acc=accuracy(pred.cpu(), labels),\n",
    "        )\n",
    "\n",
    "\n",
    "class NothingModel(ProtClassModel):\n",
    "    def predict_step(self, data, *args):\n",
    "        ei = data.edge_index\n",
    "        data.edge_index = ei[:, (ei[0] - ei[1]).abs() <= 1]\n",
    "        data.x = torch.ones_like(data.x)\n",
    "        embed = self.encoder(data)\n",
    "        pred = self.loss.mlp(embed)\n",
    "        labels = torch.tensor(self.loss.label_encoder.transform(data.y))\n",
    "        return dict(\n",
    "            embeds=embed.detach().cpu(),\n",
    "            fam=data.y,\n",
    "            id=data.id,\n",
    "            acc=accuracy(pred.cpu(), labels),\n",
    "        )"
   ]
  },
  {
   "cell_type": "code",
   "execution_count": null,
   "id": "081362d5",
   "metadata": {},
   "outputs": [],
   "source": [
    "def plot(modelname: str):\n",
    "    Model = {\n",
    "        \"masked\": MaskedModel,\n",
    "        \"shuffled\": ShuffledModel,\n",
    "        \"normal\": NormalModel,\n",
    "        \"sequence\": SequenceModel,\n",
    "        \"nothing\": NothingModel,\n",
    "    }[modelname]\n",
    "    model = Model.load_from_checkpoint(\n",
    "        \"./tb_logs/class/version_1/checkpoints/epoch=359-step=669599.ckpt\"\n",
    "    )\n",
    "    model.eval()\n",
    "    encoder = model.encoder\n",
    "    encoder.return_nodes = False\n",
    "\n",
    "    trainer = Trainer(devices=1)\n",
    "    prediction = trainer.predict(model, dataloaders=[dl])\n",
    "\n",
    "    embeds = torch.cat([x[\"embeds\"] for x in prediction])\n",
    "    batch_id = []\n",
    "    batch_fam = []\n",
    "    batch_acc = []\n",
    "    for batch in prediction:\n",
    "        batch_id += batch[\"id\"]\n",
    "        batch_fam += batch[\"fam\"]\n",
    "        batch_acc.append(batch[\"acc\"].item())\n",
    "    km = KMeans(n_clusters=10).fit(embeds)\n",
    "    df = pd.DataFrame(pd.Series(km.labels_, name=\"km\"))\n",
    "    df[\"fam\"] = batch_fam\n",
    "    acc = (\n",
    "        df.groupby(\"fam\").apply(lambda x: x[\"km\"].value_counts().head(1)).sum()\n",
    "        / df.shape[0]\n",
    "    )\n",
    "    print(\"Accuracy: \" + str(acc))\n",
    "\n",
    "    tsne = TSNE(perplexity=30)\n",
    "    x = tsne.fit_transform(embeds)\n",
    "    x = pd.DataFrame(data=x, columns=[\"x\", \"y\"])\n",
    "\n",
    "    x.columns = [\"x\", \"y\"]\n",
    "    x[\"fam\"] = batch_fam\n",
    "    x[\"id\"] = batch_id\n",
    "\n",
    "    ### NORMAL\n",
    "    fig = px.scatter(\n",
    "        x,\n",
    "        \"x\",\n",
    "        \"y\",\n",
    "        opacity=0.4,\n",
    "        width=1000,\n",
    "        height=1000,\n",
    "        color=\"fam\",\n",
    "        hover_name=\"id\",\n",
    "        hover_data=[\"fam\"],\n",
    "    )\n",
    "    fig.update_traces(marker=dict(size=8, line=dict(width=0, color=\"black\")))\n",
    "    fig.update(layout_showlegend=False)\n",
    "    fig.update_layout(margin=dict(t=5, b=5, l=5, r=5))\n",
    "    fig.write_image(f\"figs/{modelname}.png\", scale=3.0)\n",
    "    fig.show()"
   ]
  },
  {
   "cell_type": "code",
   "execution_count": null,
   "id": "f1514567",
   "metadata": {},
   "outputs": [],
   "source": [
    "plot(\"normal\")"
   ]
  },
  {
   "cell_type": "code",
   "execution_count": null,
   "id": "e0db8c6a",
   "metadata": {},
   "outputs": [],
   "source": [
    "plot(\"shuffled\")"
   ]
  },
  {
   "cell_type": "code",
   "execution_count": null,
   "id": "22f5aae7",
   "metadata": {},
   "outputs": [],
   "source": [
    "plot(\"masked\")"
   ]
  },
  {
   "cell_type": "code",
   "execution_count": null,
   "id": "fc624e24",
   "metadata": {},
   "outputs": [],
   "source": [
    "plot(\"sequence\")"
   ]
  },
  {
   "cell_type": "code",
   "execution_count": null,
   "id": "9804c16f",
   "metadata": {},
   "outputs": [],
   "source": [
    "plot(\"nothing\")"
   ]
  },
  {
   "cell_type": "code",
   "execution_count": null,
   "id": "029bb6c1",
   "metadata": {},
   "outputs": [],
   "source": []
  }
 ],
 "metadata": {
  "interpreter": {
   "hash": "8554e6baa45d4b3a991bdbf71b6842196bf0b8dbdf8bae8ed3061280d3da638f"
  },
  "kernelspec": {
   "display_name": "",
   "language": "python",
   "name": ""
  },
  "language_info": {
   "codemirror_mode": {
    "name": "ipython",
    "version": 3
   },
   "file_extension": ".py",
   "mimetype": "text/x-python",
   "name": "python",
   "nbconvert_exporter": "python",
   "pygments_lexer": "ipython3"
  }
 },
 "nbformat": 4,
 "nbformat_minor": 5
}
