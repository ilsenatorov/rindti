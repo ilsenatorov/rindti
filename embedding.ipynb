{
 "cells": [
  {
   "cell_type": "code",
   "execution_count": null,
   "id": "a32b6fea",
   "metadata": {},
   "outputs": [],
   "source": [
    "import pandas as pd\n",
    "from rindti.data import PreTrainDataset\n",
    "from collections import defaultdict\n",
    "from torch_geometric.loader import DataLoader\n",
    "from rindti.models import PfamModel\n",
    "import random\n",
    "from pytorch_lightning import Trainer\n",
    "import torch\n",
    "from sklearn.manifold import TSNE\n",
    "import plotly.express as px\n",
    "import seaborn as sns\n",
    "import numpy as np"
   ]
  },
  {
   "cell_type": "code",
   "execution_count": null,
   "id": "ba0ead43",
   "metadata": {},
   "outputs": [],
   "source": [
    "ds = PreTrainDataset(\"/scratch/SCRATCH_NVME/ilya/pretrain_data/pfam_label_none_proc.pkl\")\n",
    "fams = defaultdict(list)\n",
    "for idx, prot in enumerate(ds):\n",
    "    fams[prot.fam].append(idx)"
   ]
  },
  {
   "cell_type": "code",
   "execution_count": null,
   "id": "d2fe12d8",
   "metadata": {},
   "outputs": [],
   "source": [
    "def get_top_fam_ids(fams, k=5, sample=None):\n",
    "    fam_lens = pd.Series({k:len(v) for k,v in fams.items()})\n",
    "    good_fams = fam_lens.sort_values(ascending=False).head(k).index\n",
    "    res = []\n",
    "    for i in good_fams:\n",
    "        res += fams[i]\n",
    "    if sample:\n",
    "        return random.choices(res, k=sample)\n",
    "    return res"
   ]
  },
  {
   "cell_type": "code",
   "execution_count": null,
   "id": "3a21d463",
   "metadata": {},
   "outputs": [],
   "source": [
    "subset = ds[get_top_fam_ids(fams, k=5, sample=1000)]"
   ]
  },
  {
   "cell_type": "code",
   "execution_count": null,
   "id": "df216523",
   "metadata": {},
   "outputs": [],
   "source": [
    "class TestModel(PfamModel):\n",
    "    def predict_step(self, data, *args):\n",
    "        embed = self.encoder(data)\n",
    "        return dict(embeds=embed.detach().cpu(), fam=data.fam, id=data.id)"
   ]
  },
  {
   "cell_type": "code",
   "execution_count": null,
   "id": "fd816edd",
   "metadata": {},
   "outputs": [],
   "source": [
    "import yaml\n",
    "with open(\"config/pfam.yaml\", \"r\") as file:\n",
    "    config = yaml.load(file, yaml.FullLoader)\n",
    "config[\"feat_dim\"] = 20\n",
    "config['edge_type'] = \"none\"\n",
    "config['feat_type'] = \"label\""
   ]
  },
  {
   "cell_type": "code",
   "execution_count": null,
   "id": "081362d5",
   "metadata": {},
   "outputs": [],
   "source": [
    "model = TestModel.load_from_checkpoint(\"tb_logs/pfam/version_67/checkpoints/epoch=62-step=62999.ckpt\")\n",
    "model.eval()\n",
    "encoder = model.encoder\n",
    "encoder.return_nodes = False"
   ]
  },
  {
   "cell_type": "code",
   "execution_count": null,
   "id": "54d8f4cf",
   "metadata": {},
   "outputs": [],
   "source": [
    "dl = DataLoader(subset, batch_size=128, shuffle=False)\n",
    "trainer = Trainer(gpus=0)\n",
    "prediction = trainer.predict(model, dl)"
   ]
  },
  {
   "cell_type": "code",
   "execution_count": null,
   "id": "d9e43f4a",
   "metadata": {},
   "outputs": [],
   "source": [
    "embeds = torch.cat([x['embeds'] for x in prediction])\n",
    "batch_id = []\n",
    "batch_fam = []\n",
    "for batch in prediction:\n",
    "    batch_id += batch['id']\n",
    "    batch_fam += batch['fam']"
   ]
  },
  {
   "cell_type": "code",
   "execution_count": null,
   "id": "f9a0a38b",
   "metadata": {},
   "outputs": [],
   "source": [
    "fam_idx = []\n",
    "for i in set(batch_fam):\n",
    "    fam_list = []\n",
    "    for j, fam in enumerate(batch_fam):\n",
    "        if fam == i:\n",
    "            fam_list.append(j)\n",
    "    fam_idx.append(fam_list)"
   ]
  },
  {
   "cell_type": "code",
   "execution_count": null,
   "id": "50dd880d",
   "metadata": {},
   "outputs": [],
   "source": [
    "def soft_nearest_neighbor_loss(embeds):\n",
    "    norm_emb = torch.nn.functional.normalize(embeds)\n",
    "    sim = 1 - torch.matmul(norm_emb, norm_emb.t())\n",
    "    return _get_loss(fam_idx, sim, 100)\n",
    "\n",
    "def _get_fam_loss(expsim, idx):\n",
    "    pos_idxt = torch.tensor(idx)\n",
    "    pos = expsim[pos_idxt[:, None], pos_idxt]\n",
    "    batch = expsim[:, pos_idxt]\n",
    "    print(pos.shape)\n",
    "    print(batch.shape)\n",
    "    return -torch.log(pos.sum(dim=0) / batch.sum(dim=0))\n",
    "\n",
    "def _inverted_eye(bsize):\n",
    "    return 1.0 - torch.eye(bsize)\n",
    "\n",
    "def _get_loss(fam_idx, sim, tau):\n",
    "    expsim = torch.exp(-sim / tau) - torch.eye(sim.size(0))\n",
    "    return torch.cat([_get_fam_loss(expsim, idx) for idx in fam_idx])"
   ]
  },
  {
   "cell_type": "code",
   "execution_count": null,
   "id": "216773a0",
   "metadata": {},
   "outputs": [],
   "source": [
    "all_idx = set(range(50))\n",
    "def generalised_lifted_structure_loss(embeds):\n",
    "    losses = []\n",
    "    for idx in fam_idx:\n",
    "        dist = torch.cdist(embeds, embeds)\n",
    "        pos_idxt = torch.tensor(idx)\n",
    "        neg_idxt = torch.tensor(list(all_idx.difference(idx)))\n",
    "        pos = dist[pos_idxt[:, None], pos_idxt]\n",
    "        neg = dist[neg_idxt[:, None], pos_idxt]\n",
    "        pos_loss = torch.logsumexp(pos, dim=0)\n",
    "        neg_loss = torch.logsumexp(0.2 - neg, dim=0)\n",
    "        losses.append(torch.relu(pos_loss + neg_loss) ** 2)\n",
    "    return torch.cat(losses)"
   ]
  },
  {
   "cell_type": "code",
   "execution_count": null,
   "id": "ff818fa4",
   "metadata": {},
   "outputs": [],
   "source": [
    "a = torch.randn((25, 5)) + 0.1\n",
    "b = torch.randn((25, 5)) - 0.1\n",
    "embeds = torch.cat([a,b]).type(torch.float32)\n",
    "embeds = torch.nn.functional.normalize(embeds)\n",
    "\n",
    "tsne = TSNE()\n",
    "x = tsne.fit_transform(embeds)\n",
    "x = pd.DataFrame(data=x)\n",
    "\n",
    "losses = generalised_lifted_structure_loss(embeds)\n",
    "\n",
    "fig = px.scatter(x, 0, 1, opacity=0.7, symbol=[\"a\"] * 25 + ['b'] * 25, width=1000, height=800, color=losses.tolist(), symbol_sequence=['circle', 'cross'])\n",
    "fig.update_traces(marker=dict(size=15, line=dict(width=0.5, color='black')))\n",
    "\n",
    "fig.show()"
   ]
  },
  {
   "cell_type": "code",
   "execution_count": null,
   "id": "a163546a",
   "metadata": {},
   "outputs": [],
   "source": [
    "fam_idx = [list(range(25)), list(range(25, 50))]"
   ]
  },
  {
   "cell_type": "code",
   "execution_count": null,
   "id": "f9f0bb45",
   "metadata": {},
   "outputs": [],
   "source": []
  }
 ],
 "metadata": {
  "kernelspec": {
   "display_name": "",
   "language": "python",
   "name": ""
  },
  "language_info": {
   "codemirror_mode": {
    "name": "ipython",
    "version": 3
   },
   "file_extension": ".py",
   "mimetype": "text/x-python",
   "name": "python",
   "nbconvert_exporter": "python",
   "pygments_lexer": "ipython3",
   "version": "3.8.10"
  }
 },
 "nbformat": 4,
 "nbformat_minor": 5
}
