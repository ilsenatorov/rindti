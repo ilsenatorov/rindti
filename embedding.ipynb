{
 "cells": [
  {
   "cell_type": "code",
   "execution_count": null,
   "id": "f1703d33",
   "metadata": {},
   "outputs": [],
   "source": [
    "import plotly.express as px\n",
    "from rindti.models import NoisyNodesClassModel, ClassificationModel, InfoGraphModel, GraphLogModel, PfamModel\n",
    "from rindti.utils.data import Dataset\n",
    "import pickle\n",
    "import pandas as pd\n",
    "import seaborn as sns\n",
    "from sklearn.manifold import TSNE"
   ]
  },
  {
   "cell_type": "code",
   "execution_count": null,
   "id": "2341ab7c",
   "metadata": {},
   "outputs": [],
   "source": [
    "with open('results/prepare_all/random_posneg_under_classification_template_label_none.pkl', 'rb') as file:\n",
    "    data = pickle.load(file)"
   ]
  },
  {
   "cell_type": "code",
   "execution_count": null,
   "id": "8b79f4cc",
   "metadata": {},
   "outputs": [],
   "source": [
    "class TestModel(ClassificationModel):\n",
    "    def embed_prot(self, x, edge_index, **kwargs):\n",
    "        x = self.prot_feat_embed(x)\n",
    "        x = self.prot_node_embed(x, edge_index)\n",
    "        return self.prot_pool(x, edge_index, batch=None).detach().numpy().reshape(-1)\n",
    "    \n",
    "    def embed_drug(self, x, edge_index, **kwargs):\n",
    "        x = self.drug_feat_embed(x)\n",
    "        x = self.drug_node_embed(x, edge_index)\n",
    "        return self.drug_pool(x, edge_index, batch=None).detach().numpy().reshape(-1)"
   ]
  },
  {
   "cell_type": "code",
   "execution_count": null,
   "id": "9fdb15e6",
   "metadata": {},
   "outputs": [],
   "source": [
    "class TestPretrainModel(PfamModel):\n",
    "    def embed_prot(self, x, edge_index, **kwargs):\n",
    "        x = self.feat_embed(x)\n",
    "        x = self.node_embed(x, edge_index)\n",
    "        return self.pool(x, edge_index, batch=None).detach().numpy().reshape(-1)"
   ]
  },
  {
   "cell_type": "code",
   "execution_count": null,
   "id": "081362d5",
   "metadata": {},
   "outputs": [],
   "source": [
    "model = TestPretrainModel.load_from_checkpoint('tb_logs/pfam/version_5/checkpoints/epoch=136-step=21782.ckpt')"
   ]
  },
  {
   "cell_type": "code",
   "execution_count": null,
   "id": "220e1289",
   "metadata": {},
   "outputs": [],
   "source": [
    "embeds = {}\n",
    "for id, prot in data['prots']['data'].to_dict().items():\n",
    "    emb = model.embed_prot(**prot)\n",
    "    embeds[id] = emb\n",
    "prot_embeds = pd.DataFrame(embeds).T"
   ]
  },
  {
   "cell_type": "code",
   "execution_count": null,
   "id": "df374a56",
   "metadata": {},
   "outputs": [],
   "source": [
    "sns.heatmap(prot_embeds)"
   ]
  },
  {
   "cell_type": "code",
   "execution_count": null,
   "id": "76d28304",
   "metadata": {},
   "outputs": [],
   "source": [
    "tsne = TSNE()\n",
    "x = tsne.fit_transform(prot_embeds)"
   ]
  },
  {
   "cell_type": "code",
   "execution_count": null,
   "id": "aa0b808b",
   "metadata": {},
   "outputs": [],
   "source": [
    "px.scatter(x, 0, 1, hover_name=prot_embeds.index)"
   ]
  },
  {
   "cell_type": "code",
   "execution_count": null,
   "id": "d6dfac3f",
   "metadata": {},
   "outputs": [],
   "source": [
    "embeds = {}\n",
    "for id, drug in data['drugs']['data'].to_dict().items():\n",
    "    emb = model.embed_drug(**drug)\n",
    "    embeds[id] = emb\n",
    "drug_embeds = pd.DataFrame(embeds).T"
   ]
  },
  {
   "cell_type": "code",
   "execution_count": null,
   "id": "a0065909",
   "metadata": {},
   "outputs": [],
   "source": []
  }
 ],
 "metadata": {
  "kernelspec": {
   "display_name": "",
   "language": "python",
   "name": ""
  },
  "language_info": {
   "codemirror_mode": {
    "name": "ipython",
    "version": 3
   },
   "file_extension": ".py",
   "mimetype": "text/x-python",
   "name": "python",
   "nbconvert_exporter": "python",
   "pygments_lexer": "ipython3",
   "version": "3.8.10"
  }
 },
 "nbformat": 4,
 "nbformat_minor": 5
}
