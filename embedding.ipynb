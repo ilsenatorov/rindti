{
 "cells": [
  {
   "cell_type": "code",
   "execution_count": null,
   "id": "a32b6fea",
   "metadata": {},
   "outputs": [],
   "source": [
    "import pandas as pd\n",
    "from rindti.data import PreTrainDataset\n",
    "from collections import defaultdict\n",
    "from torch_geometric.loader import DataLoader\n",
    "from rindti.models import PfamModel\n",
    "import random\n",
    "from pytorch_lightning import Trainer\n",
    "import torch\n",
    "from sklearn.manifold import TSNE\n",
    "import plotly.express as px\n",
    "import seaborn as sns\n",
    "import numpy as np\n",
    "from umap import UMAP\n",
    "from rindti.losses import SoftNearestNeighborLoss, GeneralisedLiftedStructureLoss"
   ]
  },
  {
   "cell_type": "code",
   "execution_count": null,
   "id": "ba0ead43",
   "metadata": {},
   "outputs": [],
   "source": [
    "ds = PreTrainDataset(\"/scratch/SCRATCH_NVME/ilya/pretrain_data/pfam_label_none_proc.pkl\")\n",
    "fams = defaultdict(list)\n",
    "for idx, prot in enumerate(ds):\n",
    "    fams[prot.fam].append(idx)"
   ]
  },
  {
   "cell_type": "code",
   "execution_count": null,
   "id": "d2fe12d8",
   "metadata": {},
   "outputs": [],
   "source": [
    "def get_top_fam_ids(fams, k=5, sample=None):\n",
    "    fam_lens = pd.Series({k:len(v) for k,v in fams.items()})\n",
    "    good_fams = fam_lens.sort_values(ascending=False).head(k).index\n",
    "    res = []\n",
    "    for i in good_fams:\n",
    "        res += fams[i]\n",
    "    if sample:\n",
    "        return random.choices(res, k=sample)\n",
    "    return res"
   ]
  },
  {
   "cell_type": "code",
   "execution_count": null,
   "id": "3a21d463",
   "metadata": {},
   "outputs": [],
   "source": [
    "subset = ds[get_top_fam_ids(fams, k=5, sample=1000)]"
   ]
  },
  {
   "cell_type": "code",
   "execution_count": null,
   "id": "df216523",
   "metadata": {},
   "outputs": [],
   "source": [
    "class TestModel(PfamModel):\n",
    "    def predict_step(self, data, *args):\n",
    "        embed = self.encoder(data)\n",
    "        return dict(embeds=embed.detach().cpu(), fam=data.fam, id=data.id)"
   ]
  },
  {
   "cell_type": "code",
   "execution_count": null,
   "id": "fd816edd",
   "metadata": {},
   "outputs": [],
   "source": [
    "import yaml\n",
    "with open(\"config/pfam.yaml\", \"r\") as file:\n",
    "    config = yaml.load(file, yaml.FullLoader)\n",
    "config[\"feat_dim\"] = 20\n",
    "config['edge_type'] = \"none\"\n",
    "config['feat_type'] = \"label\""
   ]
  },
  {
   "cell_type": "code",
   "execution_count": null,
   "id": "081362d5",
   "metadata": {},
   "outputs": [],
   "source": [
    "model = TestModel.load_from_checkpoint(\"./tb_logs/pfam/version_0/checkpoints/epoch=23-step=23999.ckpt\")\n",
    "model.eval()\n",
    "encoder = model.encoder\n",
    "encoder.return_nodes = False"
   ]
  },
  {
   "cell_type": "code",
   "execution_count": null,
   "id": "54d8f4cf",
   "metadata": {},
   "outputs": [],
   "source": [
    "dl = DataLoader(subset, batch_size=128, shuffle=False)\n",
    "trainer = Trainer(gpus=0)\n",
    "prediction = trainer.predict(model, dl)"
   ]
  },
  {
   "cell_type": "code",
   "execution_count": null,
   "id": "d9e43f4a",
   "metadata": {},
   "outputs": [],
   "source": [
    "embeds = torch.cat([x['embeds'] for x in prediction])\n",
    "batch_id = []\n",
    "batch_fam = []\n",
    "for batch in prediction:\n",
    "    batch_id += batch['id']\n",
    "    batch_fam += batch['fam']"
   ]
  },
  {
   "cell_type": "code",
   "execution_count": null,
   "id": "8a0f5d65",
   "metadata": {},
   "outputs": [],
   "source": [
    "from sklearn.preprocessing import LabelEncoder\n",
    "enc = LabelEncoder()\n",
    "fam_idx = torch.tensor(enc.fit_transform(batch_fam))\n",
    "loss = SoftNearestNeighborLoss(.1)\n",
    "losses = loss.forward(embeds, fam_idx).tolist()"
   ]
  },
  {
   "cell_type": "code",
   "execution_count": null,
   "id": "8eeab3b2",
   "metadata": {},
   "outputs": [],
   "source": [
    "tsne = TSNE()\n",
    "x = tsne.fit_transform(embeds)\n",
    "x = pd.DataFrame(data=x)"
   ]
  },
  {
   "cell_type": "code",
   "execution_count": null,
   "id": "17db9db4",
   "metadata": {},
   "outputs": [],
   "source": [
    "x"
   ]
  },
  {
   "cell_type": "code",
   "execution_count": null,
   "id": "fe72efe7",
   "metadata": {},
   "outputs": [],
   "source": [
    "loss = GeneralisedLiftedStructureLoss(1)\n",
    "losses = loss.forward(embeds, fam_idx)\n",
    "fig = px.scatter(x, 0, 1, opacity=0.5, width=1000, height=800, symbol=batch_fam, color=losses.tolist())\n",
    "fig.update_traces(marker=dict(size=12, line=dict(width=0.5, color='black')))\n",
    "fig.show()\n",
    "print(losses.mean())"
   ]
  },
  {
   "cell_type": "code",
   "execution_count": null,
   "id": "a4282634",
   "metadata": {},
   "outputs": [],
   "source": []
  }
 ],
 "metadata": {
  "interpreter": {
   "hash": "8554e6baa45d4b3a991bdbf71b6842196bf0b8dbdf8bae8ed3061280d3da638f"
  },
  "kernelspec": {
   "display_name": "",
   "language": "python",
   "name": ""
  },
  "language_info": {
   "codemirror_mode": {
    "name": "ipython",
    "version": 3
   },
   "file_extension": ".py",
   "mimetype": "text/x-python",
   "name": "python",
   "nbconvert_exporter": "python",
   "pygments_lexer": "ipython3",
   "version": "3.8.10"
  }
 },
 "nbformat": 4,
 "nbformat_minor": 5
}
