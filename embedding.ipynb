{
 "cells": [
  {
   "cell_type": "code",
   "execution_count": null,
   "id": "f1703d33",
   "metadata": {},
   "outputs": [],
   "source": [
    "import plotly.express as px\n",
    "from rindti.models import NoisyNodesClassModel, ClassificationModel, InfoGraphModel, GraphLogModel, PfamModel, BGRLModel\n",
    "from rindti.models.bgrl import Encoder\n",
    "from rindti.utils.data import Dataset\n",
    "import pickle\n",
    "import pandas as pd\n",
    "import seaborn as sns\n",
    "from sklearn.manifold import TSNE\n",
    "from copy import deepcopy, copy\n",
    "from rindti.utils.data import PreTrainDataset\n",
    "from torch_geometric.data import DataLoader\n",
    "import torch"
   ]
  },
  {
   "cell_type": "code",
   "execution_count": null,
   "id": "ba0ead43",
   "metadata": {},
   "outputs": [],
   "source": [
    "ds = PreTrainDataset(\"/scratch/SCRATCH_NVME/ilya/pretrain_data/merged_1000.pkl\")"
   ]
  },
  {
   "cell_type": "code",
   "execution_count": null,
   "id": "dbb08716",
   "metadata": {},
   "outputs": [],
   "source": [
    "dl = DataLoader(ds[:10000], num_workers=1, batch_size=32)"
   ]
  },
  {
   "cell_type": "code",
   "execution_count": null,
   "id": "391d10fd",
   "metadata": {},
   "outputs": [],
   "source": [
    "def embed_batch(encoder, batch):\n",
    "    batch = batch.clone()\n",
    "    return encoder(batch.__dict__).detach()"
   ]
  },
  {
   "cell_type": "code",
   "execution_count": null,
   "id": "fac19fc5",
   "metadata": {},
   "outputs": [],
   "source": [
    "res = [embed_batch(encoder, x) for x in dl]    "
   ]
  },
  {
   "cell_type": "code",
   "execution_count": null,
   "id": "74b79e17",
   "metadata": {},
   "outputs": [],
   "source": [
    "res = torch.cat(res)"
   ]
  },
  {
   "cell_type": "code",
   "execution_count": null,
   "id": "8b79f4cc",
   "metadata": {},
   "outputs": [],
   "source": [
    "class TestModel(ClassificationModel):\n",
    "    def embed_prot(self, x, edge_index, **kwargs):\n",
    "        x = self.prot_feat_embed(x)\n",
    "        x = self.prot_node_embed(x, edge_index)\n",
    "        return self.prot_pool(x, edge_index, batch=None).detach().numpy().reshape(-1)\n",
    "    \n",
    "    def embed_drug(self, x, edge_index, **kwargs):\n",
    "        x = self.drug_feat_embed(x)\n",
    "        x = self.drug_node_embed(x, edge_index)\n",
    "        return self.drug_pool(x, edge_index, batch=None).detach().numpy().reshape(-1)"
   ]
  },
  {
   "cell_type": "code",
   "execution_count": null,
   "id": "af85d46d",
   "metadata": {},
   "outputs": [],
   "source": [
    "popfam = prots['fam'].value_counts().head(5)"
   ]
  },
  {
   "cell_type": "code",
   "execution_count": null,
   "id": "4808fda3",
   "metadata": {},
   "outputs": [],
   "source": [
    "prot_sub = prots[prots['fam'].isin(popfam.index)]"
   ]
  },
  {
   "cell_type": "code",
   "execution_count": null,
   "id": "9fdb15e6",
   "metadata": {},
   "outputs": [],
   "source": [
    "def embed_prot(encoder, data, **kwargs):\n",
    "    data['batch'] = None\n",
    "    embed = encoder(data)\n",
    "    return embed.detach().numpy().reshape(-1)"
   ]
  },
  {
   "cell_type": "code",
   "execution_count": null,
   "id": "081362d5",
   "metadata": {},
   "outputs": [],
   "source": [
    "\n",
    "model = BGRLModel.load_from_checkpoint('tb_logs/bgrl/version_2/checkpoints/epoch=154-step=163989.ckpt')\n",
    "model.eval()\n",
    "encoder = model.student_encoder"
   ]
  },
  {
   "cell_type": "code",
   "execution_count": null,
   "id": "570430cd",
   "metadata": {},
   "outputs": [],
   "source": [
    "embeds = {}\n",
    "for id, orig_prot in prot_sub['data'].to_dict().items():\n",
    "    print(id)\n",
    "    prot = copy(orig_prot)\n",
    "    emb = embed_prot(encoder, prot)\n",
    "    embeds[id] = emb\n",
    "prot_embeds = pd.DataFrame(embeds).T"
   ]
  },
  {
   "cell_type": "code",
   "execution_count": null,
   "id": "e162602d",
   "metadata": {},
   "outputs": [],
   "source": [
    "prot_sub"
   ]
  },
  {
   "cell_type": "code",
   "execution_count": null,
   "id": "220e1289",
   "metadata": {},
   "outputs": [],
   "source": [
    "tsne = TSNE()\n",
    "x = tsne.fit_transform(res)\n"
   ]
  },
  {
   "cell_type": "code",
   "execution_count": null,
   "id": "d2e898bc",
   "metadata": {},
   "outputs": [],
   "source": [
    "x = pd.DataFrame(index=prots_sub.index, data=x).join(prots_sub)"
   ]
  },
  {
   "cell_type": "code",
   "execution_count": null,
   "id": "aa0b808b",
   "metadata": {},
   "outputs": [],
   "source": [
    "px.scatter(x, 0, 1, opacity=0.5)"
   ]
  },
  {
   "cell_type": "code",
   "execution_count": null,
   "id": "09e2627f",
   "metadata": {},
   "outputs": [],
   "source": []
  }
 ],
 "metadata": {
  "kernelspec": {
   "display_name": "",
   "language": "python",
   "name": ""
  },
  "language_info": {
   "codemirror_mode": {
    "name": "ipython",
    "version": 3
   },
   "file_extension": ".py",
   "mimetype": "text/x-python",
   "name": "python",
   "nbconvert_exporter": "python",
   "pygments_lexer": "ipython3",
   "version": "3.8.10"
  }
 },
 "nbformat": 4,
 "nbformat_minor": 5
}
