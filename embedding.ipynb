{
 "cells": [
  {
   "cell_type": "code",
   "execution_count": null,
   "id": "f1703d33",
   "metadata": {},
   "outputs": [],
   "source": [
    "import plotly.express as px\n",
    "from rindti.models import NoisyNodesClassModel, ClassificationModel, InfoGraphModel, GraphLogModel, PfamModel, BGRLModel\n",
    "from rindti.models.bgrl import Encoder\n",
    "from rindti.utils.data import Dataset\n",
    "import pickle\n",
    "import pandas as pd\n",
    "import seaborn as sns\n",
    "from sklearn.manifold import TSNE\n",
    "from copy import deepcopy, copy\n",
    "from rindti.utils.data import PreTrainDataset\n",
    "from torch_geometric.data import DataLoader\n",
    "import torch"
   ]
  },
  {
   "cell_type": "code",
   "execution_count": null,
   "id": "ba0ead43",
   "metadata": {},
   "outputs": [],
   "source": [
    "ds = pd.read_pickle(\"/scratch/SCRATCH_NVME/ilya/pretrain_data/pfam_1000.pkl\")"
   ]
  },
  {
   "cell_type": "code",
   "execution_count": null,
   "id": "760fc477",
   "metadata": {},
   "outputs": [],
   "source": [
    "vc = ds['fam'].value_counts()\n",
    "sub = ds[ds['fam'].isin(vc.head(10).index)]"
   ]
  },
  {
   "cell_type": "code",
   "execution_count": null,
   "id": "391d10fd",
   "metadata": {},
   "outputs": [],
   "source": [
    "def embed(encoder, data):\n",
    "    data['batch'] = None\n",
    "    return encoder(data).detach().numpy().reshape(-1)"
   ]
  },
  {
   "cell_type": "code",
   "execution_count": null,
   "id": "081362d5",
   "metadata": {},
   "outputs": [],
   "source": [
    "model = PfamModel.load_from_checkpoint('tb_logs/pfam/version_9/checkpoints/epoch=18-step=14477.ckpt')\n",
    "model.eval()\n",
    "encoder = model.encoder\n",
    "encoder.return_nodes = False"
   ]
  },
  {
   "cell_type": "code",
   "execution_count": null,
   "id": "570430cd",
   "metadata": {},
   "outputs": [],
   "source": [
    "embeds = {}\n",
    "for id, orig_prot in sub['data'].to_dict().items():\n",
    "    print(id)\n",
    "    prot = copy(orig_prot)\n",
    "    emb = embed(encoder, prot)\n",
    "    embeds[id] = emb\n",
    "prot_embeds = pd.DataFrame(embeds).T"
   ]
  },
  {
   "cell_type": "code",
   "execution_count": null,
   "id": "e162602d",
   "metadata": {},
   "outputs": [],
   "source": [
    "prot_sub"
   ]
  },
  {
   "cell_type": "code",
   "execution_count": null,
   "id": "220e1289",
   "metadata": {},
   "outputs": [],
   "source": [
    "tsne = TSNE()\n",
    "x = tsne.fit_transform(res)\n"
   ]
  },
  {
   "cell_type": "code",
   "execution_count": null,
   "id": "d2e898bc",
   "metadata": {},
   "outputs": [],
   "source": [
    "x = pd.DataFrame(index=prots_sub.index, data=x).join(prots_sub)"
   ]
  },
  {
   "cell_type": "code",
   "execution_count": null,
   "id": "aa0b808b",
   "metadata": {},
   "outputs": [],
   "source": [
    "px.scatter(x, 0, 1, opacity=0.5)"
   ]
  },
  {
   "cell_type": "code",
   "execution_count": null,
   "id": "09e2627f",
   "metadata": {},
   "outputs": [],
   "source": []
  }
 ],
 "metadata": {
  "kernelspec": {
   "display_name": "",
   "language": "python",
   "name": ""
  },
  "language_info": {
   "codemirror_mode": {
    "name": "ipython",
    "version": 3
   },
   "file_extension": ".py",
   "mimetype": "text/x-python",
   "name": "python",
   "nbconvert_exporter": "python",
   "pygments_lexer": "ipython3",
   "version": "3.8.10"
  }
 },
 "nbformat": 4,
 "nbformat_minor": 5
}
