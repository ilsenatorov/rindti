{
 "cells": [
  {
   "cell_type": "code",
   "execution_count": null,
   "id": "a32b6fea",
   "metadata": {},
   "outputs": [],
   "source": [
    "import pandas as pd\n",
    "from rindti.data import PreTrainDataset\n",
    "from collections import defaultdict\n",
    "from torch_geometric.loader import DataLoader\n",
    "from rindti.models import PfamModel\n",
    "import random\n",
    "from pytorch_lightning import Trainer\n",
    "import torch\n",
    "from sklearn.manifold import TSNE\n",
    "from sklearn.decomposition import PCA\n",
    "import plotly.express as px\n",
    "import seaborn as sns\n",
    "import numpy as np\n",
    "from umap import UMAP\n",
    "from rindti.losses import SoftNearestNeighborLoss, GeneralisedLiftedStructureLoss"
   ]
  },
  {
   "cell_type": "code",
   "execution_count": null,
   "id": "ba0ead43",
   "metadata": {},
   "outputs": [],
   "source": [
    "ds = PreTrainDataset(\"/scratch/SCRATCH_NVME/ilya/pretrain_data/pfam_label_none_proc.pkl\")\n",
    "fams = defaultdict(list)\n",
    "for idx, prot in enumerate(ds):\n",
    "    fams[prot.fam].append(idx)"
   ]
  },
  {
   "cell_type": "code",
   "execution_count": null,
   "id": "d2fe12d8",
   "metadata": {},
   "outputs": [],
   "source": [
    "def get_top_fam_ids(fams, k=5, sample=None):\n",
    "    fam_lens = pd.Series({k:len(v) for k,v in fams.items()})\n",
    "    good_fams = fam_lens.sort_values(ascending=False).head(k).index\n",
    "    res = []\n",
    "    for i in good_fams:\n",
    "        res += fams[i]\n",
    "    if sample:\n",
    "        return random.choices(res, k=sample)\n",
    "    return res"
   ]
  },
  {
   "cell_type": "code",
   "execution_count": null,
   "id": "3a21d463",
   "metadata": {},
   "outputs": [],
   "source": [
    "subset = ds"
   ]
  },
  {
   "cell_type": "code",
   "execution_count": null,
   "id": "df216523",
   "metadata": {},
   "outputs": [],
   "source": [
    "class TestModel(PfamModel):\n",
    "    def predict_step(self, data, *args):\n",
    "        embed = self.encoder(data)\n",
    "        return dict(embeds=embed.detach().cpu(), fam=data.fam, id=data.id)"
   ]
  },
  {
   "cell_type": "code",
   "execution_count": null,
   "id": "fd816edd",
   "metadata": {},
   "outputs": [],
   "source": [
    "import yaml\n",
    "with open(\"config/pfam.yaml\", \"r\") as file:\n",
    "    config = yaml.load(file, yaml.FullLoader)\n",
    "config[\"feat_dim\"] = 20\n",
    "config['edge_type'] = \"none\"\n",
    "config['feat_type'] = \"label\""
   ]
  },
  {
   "cell_type": "code",
   "execution_count": null,
   "id": "081362d5",
   "metadata": {},
   "outputs": [],
   "source": [
    "model = TestModel.load_from_checkpoint(\"./tb_logs/pfam/version_1/checkpoints/epoch=282-step=282999.ckpt\")\n",
    "model.eval()\n",
    "encoder = model.encoder\n",
    "encoder.return_nodes = False"
   ]
  },
  {
   "cell_type": "code",
   "execution_count": null,
   "id": "54d8f4cf",
   "metadata": {},
   "outputs": [],
   "source": [
    "dl = DataLoader(subset, batch_size=128, shuffle=False)\n",
    "trainer = Trainer(gpus=1)\n",
    "prediction = trainer.predict(model, dl)"
   ]
  },
  {
   "cell_type": "code",
   "execution_count": null,
   "id": "d9e43f4a",
   "metadata": {},
   "outputs": [],
   "source": [
    "embeds = torch.cat([x['embeds'] for x in prediction])\n",
    "batch_id = []\n",
    "batch_fam = []\n",
    "for batch in prediction:\n",
    "    batch_id += batch['id']\n",
    "    batch_fam += batch['fam']"
   ]
  },
  {
   "cell_type": "code",
   "execution_count": null,
   "id": "8eeab3b2",
   "metadata": {},
   "outputs": [],
   "source": [
    "tsne = TSNE()\n",
    "x = tsne.fit_transform(embeds)\n",
    "x = pd.DataFrame(data=x)"
   ]
  },
  {
   "cell_type": "code",
   "execution_count": null,
   "id": "6dcc5f4e",
   "metadata": {},
   "outputs": [],
   "source": [
    "x.columns = [\"x\", \"y\"]\n",
    "x['fam'] = batch_fam\n",
    "x['id'] = batch_id"
   ]
  },
  {
   "cell_type": "code",
   "execution_count": null,
   "id": "b78792f9",
   "metadata": {},
   "outputs": [],
   "source": [
    "top_fams = defaultdict(int)\n",
    "for fams in batch_fam:\n",
    "    for fam in fams.split(\";\"):\n",
    "        top_fams[fam] += 1\n",
    "\n",
    "good_guys = pd.Series(top_fams).sort_values().tail(500).index\n",
    "\n",
    "def check_presence(fams):\n",
    "    for fam in fams.split(\";\"):\n",
    "        if fam in good_guys:\n",
    "            return fam\n",
    "    return False\n",
    "\n",
    "x['color'] = x['fam'].apply(lambda x: check_presence(x) if check_presence(x) else \"other\")"
   ]
  },
  {
   "cell_type": "code",
   "execution_count": null,
   "id": "fe72efe7",
   "metadata": {},
   "outputs": [],
   "source": [
    "fig = px.scatter(x, \"x\", \"y\", opacity=0.4,\n",
    "                 width=1000, height=800, color=\"color\", symbol=\"color\",\n",
    "                 hover_name=\"id\", hover_data=[\"fam\"], color_discrete_map={\"other\":\"gray\"}, \n",
    "                color_discrete_sequence=px.colors.qualitative.Light24,)\n",
    "fig.update_traces(marker=dict(size=8, line=dict(width=0, color='black')))\n",
    "fig.write_html(\"test.html\")\n",
    "fig.show()"
   ]
  },
  {
   "cell_type": "code",
   "execution_count": null,
   "id": "a4282634",
   "metadata": {},
   "outputs": [],
   "source": [
    "x = x.drop(\"color\", axis=1)"
   ]
  },
  {
   "cell_type": "code",
   "execution_count": null,
   "id": "b6e13376",
   "metadata": {},
   "outputs": [],
   "source": [
    "x.to_csv(\"data/embeddings.tsv\", sep=\"\\t\")"
   ]
  },
  {
   "cell_type": "code",
   "execution_count": null,
   "id": "ed7d3c30",
   "metadata": {},
   "outputs": [],
   "source": [
    "df = pd.read_csv(\"data/embeddings.tsv\", sep=\"\\t\", index_col=0)"
   ]
  },
  {
   "cell_type": "code",
   "execution_count": null,
   "id": "638bf17b",
   "metadata": {},
   "outputs": [],
   "source": [
    "df"
   ]
  },
  {
   "cell_type": "code",
   "execution_count": null,
   "id": "9cb68cf1",
   "metadata": {},
   "outputs": [],
   "source": [
    "df.set_index(\"id\").to_csv(\"data/embeddings.tsv\", sep=\"\\t\")"
   ]
  },
  {
   "cell_type": "code",
   "execution_count": null,
   "id": "29b7f5e7",
   "metadata": {},
   "outputs": [],
   "source": []
  }
 ],
 "metadata": {
  "interpreter": {
   "hash": "8554e6baa45d4b3a991bdbf71b6842196bf0b8dbdf8bae8ed3061280d3da638f"
  },
  "kernelspec": {
   "display_name": "",
   "language": "python",
   "name": ""
  },
  "language_info": {
   "codemirror_mode": {
    "name": "ipython",
    "version": 3
   },
   "file_extension": ".py",
   "mimetype": "text/x-python",
   "name": "python",
   "nbconvert_exporter": "python",
   "pygments_lexer": "ipython3",
   "version": "3.8.10"
  }
 },
 "nbformat": 4,
 "nbformat_minor": 5
}
