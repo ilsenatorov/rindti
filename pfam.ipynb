{
 "cells": [
  {
   "cell_type": "code",
   "execution_count": null,
   "id": "3f7e3945",
   "metadata": {},
   "outputs": [],
   "source": [
    "import pickle\n",
    "import pandas as pd\n",
    "from collections import defaultdict"
   ]
  },
  {
   "cell_type": "code",
   "execution_count": null,
   "id": "73425eac",
   "metadata": {},
   "outputs": [],
   "source": [
    "uniprot = pd.read_csv(\"../uniprot.tsv.gz\", sep='\\t').set_index(\"Entry\")[['Protein families', \"Cross-reference (Pfam)\"]]\n",
    "prots = pd.read_pickle(\"results/prepare_proteins/protein_data_whole_label_none.pkl\")\n",
    "prots.index = prots.index.to_series().apply(lambda x:x.split(\"-\")[1])\n",
    "prots = prots.join(uniprot)"
   ]
  },
  {
   "cell_type": "code",
   "execution_count": null,
   "id": "88555e59",
   "metadata": {},
   "outputs": [],
   "source": [
    "prots = prots[prots['Cross-reference (Pfam)'].notna()].reset_index().drop_duplicates(\"index\").set_index(\"index\")\n",
    "prots.drop(\"Protein families\", axis=1, inplace=True)"
   ]
  },
  {
   "cell_type": "code",
   "execution_count": null,
   "id": "d3ebb54f",
   "metadata": {},
   "outputs": [],
   "source": [
    "prots['fam'] = prots['Cross-reference (Pfam)'].apply(lambda x:x.split(\";\")[0] + \";\")"
   ]
  },
  {
   "cell_type": "code",
   "execution_count": null,
   "id": "d22608d8",
   "metadata": {},
   "outputs": [],
   "source": [
    "prots = prots[prots['fam'].isin([\"PF13853;\", \"PF00076;\"])]"
   ]
  },
  {
   "cell_type": "code",
   "execution_count": null,
   "id": "3ad0780c",
   "metadata": {},
   "outputs": [],
   "source": [
    "prots"
   ]
  },
  {
   "cell_type": "code",
   "execution_count": null,
   "id": "8dd9ebce",
   "metadata": {},
   "outputs": [
    {
     "name": "stderr",
     "output_type": "stream",
     "text": [
      "/home/ise20/miniconda3/envs/rindti/lib/python3.8/site-packages/pandas/core/frame.py:3607: SettingWithCopyWarning:\n",
      "\n",
      "\n",
      "A value is trying to be set on a copy of a slice from a DataFrame.\n",
      "Try using .loc[row_indexer,col_indexer] = value instead\n",
      "\n",
      "See the caveats in the documentation: https://pandas.pydata.org/pandas-docs/stable/user_guide/indexing.html#returning-a-view-versus-a-copy\n",
      "\n"
     ]
    }
   ],
   "source": [
    "# prots['fam'] = prots['Cross-reference (Pfam)']\n",
    "prots['nnodes'] = prots.data.apply(lambda x: x['x'].size(0))\n",
    "prots = prots[prots['nnodes'].between(150, 1000)]"
   ]
  },
  {
   "cell_type": "code",
   "execution_count": null,
   "id": "3d53a094",
   "metadata": {},
   "outputs": [],
   "source": [
    "prots"
   ]
  },
  {
   "cell_type": "code",
   "execution_count": null,
   "id": "5c33c40c",
   "metadata": {},
   "outputs": [],
   "source": [
    "def add_fam(row):\n",
    "    data = row['data']\n",
    "    if \"index_mapping\" in data:\n",
    "        del data['index_mapping']\n",
    "    data['fam'] = row['fam']\n",
    "    return data\n",
    "\n",
    "prots['data'] = prots.apply(add_fam, axis=1)"
   ]
  },
  {
   "cell_type": "code",
   "execution_count": null,
   "id": "a78aa5fc",
   "metadata": {},
   "outputs": [],
   "source": [
    "prots[['data']].to_pickle(\"/scratch/SCRATCH_NVME/ilya/pretrain_data/pfam_subset.pkl\")"
   ]
  },
  {
   "cell_type": "code",
   "execution_count": null,
   "id": "fe0a62e8",
   "metadata": {},
   "outputs": [],
   "source": [
    "from rindti.utils.data import PreTrainDataset"
   ]
  },
  {
   "cell_type": "code",
   "execution_count": null,
   "id": "c75a164b",
   "metadata": {},
   "outputs": [],
   "source": [
    "ds = PreTrainDataset('/scratch/SCRATCH_NVME/ilya/pretrain_data/pfam_1000.pkl')"
   ]
  },
  {
   "cell_type": "code",
   "execution_count": null,
   "id": "2bb8e5e5",
   "metadata": {},
   "outputs": [],
   "source": [
    "ds.get_pfams()"
   ]
  },
  {
   "cell_type": "code",
   "execution_count": null,
   "id": "e4abfe49",
   "metadata": {},
   "outputs": [],
   "source": []
  }
 ],
 "metadata": {
  "kernelspec": {
   "display_name": "",
   "language": "python",
   "name": ""
  },
  "language_info": {
   "codemirror_mode": {
    "name": "ipython",
    "version": 3
   },
   "file_extension": ".py",
   "mimetype": "text/x-python",
   "name": "python",
   "nbconvert_exporter": "python",
   "pygments_lexer": "ipython3",
   "version": "3.8.10"
  }
 },
 "nbformat": 4,
 "nbformat_minor": 5
}
