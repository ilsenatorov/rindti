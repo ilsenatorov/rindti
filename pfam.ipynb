{
 "cells": [
  {
   "cell_type": "code",
   "execution_count": null,
   "id": "3f7e3945",
   "metadata": {},
   "outputs": [],
   "source": [
    "import pickle\n",
    "import pandas as pd"
   ]
  },
  {
   "cell_type": "code",
   "execution_count": null,
   "id": "73425eac",
   "metadata": {},
   "outputs": [],
   "source": [
    "uniprot = pd.read_csv(\"../uniprot.tsv.gz\", sep='\\t').set_index(\"Entry\")[['Protein families', \"Cross-reference (Pfam)\"]]\n",
    "prots = pd.read_pickle(\"results/prepare_proteins/protein_data_whole_label_none.pkl\")\n",
    "prots.index = prots.index.to_series().apply(lambda x:x.split(\"-\")[1])\n",
    "prots = prots.join(uniprot)"
   ]
  },
  {
   "cell_type": "code",
   "execution_count": null,
   "id": "88555e59",
   "metadata": {},
   "outputs": [],
   "source": [
    "prots = prots[prots['Cross-reference (Pfam)'].notna()].reset_index().drop_duplicates(\"index\").set_index(\"index\")\n",
    "prots.drop(\"Protein families\", axis=1, inplace=True)"
   ]
  },
  {
   "cell_type": "code",
   "execution_count": null,
   "id": "8dd9ebce",
   "metadata": {},
   "outputs": [],
   "source": [
    "prots['fam'] = prots['Cross-reference (Pfam)']\n",
    "prots['nnodes'] = prots.data.apply(lambda x: x['x'].size(0))\n",
    "prots = prots[prots['nnodes'].between(150, 1000)]"
   ]
  },
  {
   "cell_type": "code",
   "execution_count": null,
   "id": "7c9c0947",
   "metadata": {},
   "outputs": [],
   "source": [
    "import plotly.express as px\n",
    "px.histogram(prots['nnodes'])"
   ]
  },
  {
   "cell_type": "code",
   "execution_count": null,
   "id": "5c33c40c",
   "metadata": {},
   "outputs": [],
   "source": [
    "def add_fam(row):\n",
    "    data = row['data']\n",
    "    if \"index_mapping\" in data:\n",
    "        del data['index_mapping']\n",
    "    data['fam'] = row['fam']\n",
    "    return data\n",
    "\n",
    "prots['data'] = prots.apply(add_fam, axis=1)"
   ]
  },
  {
   "cell_type": "code",
   "execution_count": null,
   "id": "a78aa5fc",
   "metadata": {},
   "outputs": [],
   "source": [
    "prots[['data']].to_pickle(\"/scratch/SCRATCH_NVME/ilya/pretrain_data/pfam_1000.pkl\")"
   ]
  }
 ],
 "metadata": {
  "kernelspec": {
   "display_name": "",
   "language": "python",
   "name": ""
  },
  "language_info": {
   "codemirror_mode": {
    "name": "ipython",
    "version": 3
   },
   "file_extension": ".py",
   "mimetype": "text/x-python",
   "name": "python",
   "nbconvert_exporter": "python",
   "pygments_lexer": "ipython3",
   "version": "3.8.10"
  }
 },
 "nbformat": 4,
 "nbformat_minor": 5
}
