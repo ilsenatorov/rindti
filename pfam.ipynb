{
 "cells": [
  {
   "cell_type": "code",
   "execution_count": null,
   "id": "ce014d42",
   "metadata": {},
   "outputs": [],
   "source": [
    "import pickle\n",
    "import pandas as pd\n",
    "from collections import defaultdict\n",
    "import os\n",
    "import os.path as osp"
   ]
  },
  {
   "cell_type": "code",
   "execution_count": null,
   "id": "4405bee9",
   "metadata": {},
   "outputs": [],
   "source": [
    "!ls /scratch/SCRATCH_NVME/ilya/pretrain_data/"
   ]
  },
  {
   "cell_type": "code",
   "execution_count": null,
   "id": "7bc0b14b",
   "metadata": {},
   "outputs": [],
   "source": [
    "!rm /scratch/SCRATCH_NVME/ilya/pretrain_data/pfam_no_orphans.pkl"
   ]
  },
  {
   "cell_type": "code",
   "execution_count": null,
   "id": "f5d8d753",
   "metadata": {},
   "outputs": [],
   "source": [
    "for i in os.listdir(\"/scratch/SCRATCH_NVME/ilya/pretrain_data/\"):\n",
    "    if \"pfam\" in i:\n",
    "        uniprot = pd.read_csv(\"/scratch/SCRATCH_NVME/ilya/pretrain_data/uniprot.tsv.gz\", sep='\\t').set_index(\"Entry\")[['Protein families', \"Cross-reference (Pfam)\"]]\n",
    "        prots = pd.read_pickle(\"/scratch/SCRATCH_NVME/ilya/pretrain_data/{}\".format(i))\n",
    "        prots.index = prots.index.to_series().apply(lambda x:x.split(\"-\")[1])\n",
    "        prots = prots.join(uniprot)\n",
    "\n",
    "        prots = prots[prots['Cross-reference (Pfam)'].notna()].reset_index().drop_duplicates(\"index\").set_index(\"index\")\n",
    "        prots.drop(\"Protein families\", axis=1, inplace=True)\n",
    "\n",
    "        prots['fam'] = prots['Cross-reference (Pfam)'].apply(lambda x: x.split(\";\")[0])\n",
    "        prots['nnodes'] = prots.data.apply(lambda x: x['x'].size(0))\n",
    "        prots = prots[prots['nnodes'].between(150, 1000)]\n",
    "\n",
    "        vc = prots['fam'].value_counts()\n",
    "        prots = prots[prots['fam'].isin(vc[vc > 10].index)]\n",
    "\n",
    "        def add_fam(row):\n",
    "            data = row['data']\n",
    "            if \"index_mapping\" in data:\n",
    "                del data['index_mapping']\n",
    "            data['fam'] = row['fam']\n",
    "            return data\n",
    "\n",
    "        prots['data'] = prots.apply(add_fam, axis=1)\n",
    "        prots[['data']].to_pickle(\"/scratch/SCRATCH_NVME/ilya/pretrain_data/{}\".format(i.split(\".\")[0] + \"processed.pkl\"))"
   ]
  },
  {
   "cell_type": "code",
   "execution_count": null,
   "id": "0a9d8202",
   "metadata": {},
   "outputs": [],
   "source": []
  }
 ],
 "metadata": {
  "kernelspec": {
   "display_name": "",
   "language": "python",
   "name": ""
  },
  "language_info": {
   "codemirror_mode": {
    "name": "ipython",
    "version": 3
   },
   "file_extension": ".py",
   "mimetype": "text/x-python",
   "name": "python",
   "nbconvert_exporter": "python",
   "pygments_lexer": "ipython3",
   "version": "3.8.10"
  }
 },
 "nbformat": 4,
 "nbformat_minor": 5
}
