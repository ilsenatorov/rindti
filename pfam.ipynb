{
 "cells": [
  {
   "cell_type": "code",
   "execution_count": null,
   "id": "3f7e3945",
   "metadata": {},
   "outputs": [],
   "source": [
    "import pickle\n",
    "import pandas as pd"
   ]
  },
  {
   "cell_type": "code",
   "execution_count": null,
   "id": "73425eac",
   "metadata": {},
   "outputs": [],
   "source": [
    "uniprot = pd.read_csv(\"../uniprot.tsv.gz\", sep='\\t').set_index(\"Entry\")[['Protein families', \"Cross-reference (Pfam)\"]]\n",
    "prots = pd.read_pickle(\"results/prepare_proteins/protein_data_whole_label_none.pkl\")\n",
    "prots.index = prots.index.to_series().apply(lambda x:x.split(\"-\")[1])\n",
    "prots = prots.join(uniprot)"
   ]
  },
  {
   "cell_type": "code",
   "execution_count": null,
   "id": "1699b40b",
   "metadata": {},
   "outputs": [],
   "source": [
    "prots = prots[prots['Cross-reference (Pfam)'].notna()].reset_index().drop_duplicates(\"index\").set_index(\"index\")\n",
    "prots.drop(\"Protein families\", axis=1, inplace=True)"
   ]
  },
  {
   "cell_type": "code",
   "execution_count": null,
   "id": "ef9e948c",
   "metadata": {},
   "outputs": [],
   "source": [
    "prots['fam'] = prots['Cross-reference (Pfam)'].apply(lambda x: x.split(\";\")[0])\n",
    "prots['nnodes'] = prots.data.apply(lambda x: x['x'].size(0))\n",
    "prots = prots[prots['nnodes'] < 1000]"
   ]
  },
  {
   "cell_type": "code",
   "execution_count": null,
   "id": "e8cdf449",
   "metadata": {},
   "outputs": [],
   "source": [
    "prots[['data', 'fam']].to_pickle(\"/scratch/SCRATCH_NVME/ilya/pretrain_data/pfam_1000.pkl\")"
   ]
  }
 ],
 "metadata": {
  "kernelspec": {
   "display_name": "",
   "language": "python",
   "name": ""
  },
  "language_info": {
   "codemirror_mode": {
    "name": "ipython",
    "version": 3
   },
   "file_extension": ".py",
   "mimetype": "text/x-python",
   "name": "python",
   "nbconvert_exporter": "python",
   "pygments_lexer": "ipython3",
   "version": "3.8.10"
  }
 },
 "nbformat": 4,
 "nbformat_minor": 5
}
